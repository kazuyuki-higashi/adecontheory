{
 "cells": [
  {
   "cell_type": "code",
   "execution_count": 1,
   "metadata": {
    "collapsed": true
   },
   "outputs": [],
   "source": [
    "import numpy as np"
   ]
  },
  {
   "cell_type": "code",
   "execution_count": 2,
   "metadata": {
    "collapsed": true
   },
   "outputs": [],
   "source": [
    "np.set_printoptions(precision=5)"
   ]
  },
  {
   "cell_type": "code",
   "execution_count": 3,
   "metadata": {
    "collapsed": true
   },
   "outputs": [],
   "source": [
    "A = np.array([[3, 3],\n",
    "              [2, 5],\n",
    "              [0 ,6]])\n",
    "B_T = np.array([[3, 2, 3],\n",
    "                [2, 6, 1]])\n",
    "m, n = A.shape"
   ]
  },
  {
   "cell_type": "code",
   "execution_count": 4,
   "metadata": {
    "collapsed": true
   },
   "outputs": [],
   "source": [
    "tableau0 = np.empty((n, m+n+1))\n",
    "tableau0[:, :m] = B_T\n",
    "tableau0[:, m:m+n] = np.identity(n)\n",
    "tableau0[:, -1] = 1"
   ]
  },
  {
   "cell_type": "code",
   "execution_count": 5,
   "metadata": {
    "collapsed": false
   },
   "outputs": [
    {
     "data": {
      "text/plain": [
       "array([[ 3.,  2.,  3.,  1.,  0.,  1.],\n",
       "       [ 2.,  6.,  1.,  0.,  1.,  1.]])"
      ]
     },
     "execution_count": 5,
     "metadata": {},
     "output_type": "execute_result"
    }
   ],
   "source": [
    "tableau0"
   ]
  },
  {
   "cell_type": "code",
   "execution_count": 6,
   "metadata": {
    "collapsed": true
   },
   "outputs": [],
   "source": [
    "tableau1 = np.empty((m, n+m+1))\n",
    "tableau1[:, :m] = np.identity(m)\n",
    "tableau1[:, m:m+n] = A\n",
    "tableau1[:, -1] = 1"
   ]
  },
  {
   "cell_type": "code",
   "execution_count": 7,
   "metadata": {
    "collapsed": false
   },
   "outputs": [
    {
     "data": {
      "text/plain": [
       "array([[ 1.,  0.,  0.,  3.,  3.,  1.],\n",
       "       [ 0.,  1.,  0.,  2.,  5.,  1.],\n",
       "       [ 0.,  0.,  1.,  0.,  6.,  1.]])"
      ]
     },
     "execution_count": 7,
     "metadata": {},
     "output_type": "execute_result"
    }
   ],
   "source": [
    "tableau1"
   ]
  },
  {
   "cell_type": "code",
   "execution_count": 8,
   "metadata": {
    "collapsed": false
   },
   "outputs": [
    {
     "data": {
      "text/plain": [
       "array([3, 4])"
      ]
     },
     "execution_count": 8,
     "metadata": {},
     "output_type": "execute_result"
    }
   ],
   "source": [
    "basic_vars0 = np.arange(m, m+n)\n",
    "basic_vars0"
   ]
  },
  {
   "cell_type": "code",
   "execution_count": 9,
   "metadata": {
    "collapsed": false
   },
   "outputs": [
    {
     "data": {
      "text/plain": [
       "array([0, 1, 2])"
      ]
     },
     "execution_count": 9,
     "metadata": {},
     "output_type": "execute_result"
    }
   ],
   "source": [
    "basic_vars1 = np.arange(0, m)\n",
    "basic_vars1"
   ]
  },
  {
   "cell_type": "code",
   "execution_count": 10,
   "metadata": {
    "collapsed": true
   },
   "outputs": [],
   "source": [
    "init_pivot = 1"
   ]
  },
  {
   "cell_type": "code",
   "execution_count": 11,
   "metadata": {
    "collapsed": true
   },
   "outputs": [],
   "source": [
    "pivot = init_pivot"
   ]
  },
  {
   "cell_type": "code",
   "execution_count": 12,
   "metadata": {
    "collapsed": false
   },
   "outputs": [
    {
     "data": {
      "text/plain": [
       "array([ 0.5    ,  0.16667])"
      ]
     },
     "execution_count": 12,
     "metadata": {},
     "output_type": "execute_result"
    }
   ],
   "source": [
    "ratios = tableau0[:, -1] / tableau0[:, pivot]\n",
    "ratios"
   ]
  },
  {
   "cell_type": "code",
   "execution_count": 13,
   "metadata": {
    "collapsed": false
   },
   "outputs": [
    {
     "data": {
      "text/plain": [
       "1"
      ]
     },
     "execution_count": 13,
     "metadata": {},
     "output_type": "execute_result"
    }
   ],
   "source": [
    "row_min = ratios.argmin()\n",
    "row_min"
   ]
  },
  {
   "cell_type": "code",
   "execution_count": 14,
   "metadata": {
    "collapsed": false
   },
   "outputs": [
    {
     "data": {
      "text/plain": [
       "4"
      ]
     },
     "execution_count": 14,
     "metadata": {},
     "output_type": "execute_result"
    }
   ],
   "source": [
    "basic_vars0[row_min]"
   ]
  },
  {
   "cell_type": "code",
   "execution_count": 15,
   "metadata": {
    "collapsed": true
   },
   "outputs": [],
   "source": [
    "tableau0[row_min, :] /= tableau0[row_min, pivot]"
   ]
  },
  {
   "cell_type": "code",
   "execution_count": 16,
   "metadata": {
    "collapsed": false
   },
   "outputs": [
    {
     "data": {
      "text/plain": [
       "array([[ 3.     ,  2.     ,  3.     ,  1.     ,  0.     ,  1.     ],\n",
       "       [ 0.33333,  1.     ,  0.16667,  0.     ,  0.16667,  0.16667]])"
      ]
     },
     "execution_count": 16,
     "metadata": {},
     "output_type": "execute_result"
    }
   ],
   "source": [
    "tableau0"
   ]
  },
  {
   "cell_type": "code",
   "execution_count": 17,
   "metadata": {
    "collapsed": true
   },
   "outputs": [],
   "source": [
    "for i in range(tableau0.shape[0]):\n",
    "    if i != row_min:\n",
    "        tableau0[i, :] -= tableau0[row_min, :] * tableau0[i, pivot]"
   ]
  },
  {
   "cell_type": "code",
   "execution_count": 18,
   "metadata": {
    "collapsed": false
   },
   "outputs": [
    {
     "data": {
      "text/plain": [
       "array([[ 2.33333,  0.     ,  2.66667,  1.     , -0.33333,  0.66667],\n",
       "       [ 0.33333,  1.     ,  0.16667,  0.     ,  0.16667,  0.16667]])"
      ]
     },
     "execution_count": 18,
     "metadata": {},
     "output_type": "execute_result"
    }
   ],
   "source": [
    "tableau0"
   ]
  },
  {
   "cell_type": "code",
   "execution_count": 19,
   "metadata": {
    "collapsed": true
   },
   "outputs": [],
   "source": [
    "basic_vars0[row_min], pivot = pivot, basic_vars0[row_min]"
   ]
  },
  {
   "cell_type": "code",
   "execution_count": 20,
   "metadata": {
    "collapsed": false
   },
   "outputs": [
    {
     "data": {
      "text/plain": [
       "array([3, 1])"
      ]
     },
     "execution_count": 20,
     "metadata": {},
     "output_type": "execute_result"
    }
   ],
   "source": [
    "basic_vars0"
   ]
  },
  {
   "cell_type": "code",
   "execution_count": 21,
   "metadata": {
    "collapsed": false
   },
   "outputs": [
    {
     "data": {
      "text/plain": [
       "1"
      ]
     },
     "execution_count": 21,
     "metadata": {},
     "output_type": "execute_result"
    }
   ],
   "source": [
    "basic_vars0[row_min]"
   ]
  },
  {
   "cell_type": "code",
   "execution_count": 22,
   "metadata": {
    "collapsed": false
   },
   "outputs": [
    {
     "data": {
      "text/plain": [
       "4"
      ]
     },
     "execution_count": 22,
     "metadata": {},
     "output_type": "execute_result"
    }
   ],
   "source": [
    "pivot\n"
   ]
  },
  {
   "cell_type": "code",
   "execution_count": 23,
   "metadata": {
    "collapsed": false
   },
   "outputs": [
    {
     "data": {
      "text/plain": [
       "False"
      ]
     },
     "execution_count": 23,
     "metadata": {},
     "output_type": "execute_result"
    }
   ],
   "source": [
    "pivot == init_pivot"
   ]
  },
  {
   "cell_type": "code",
   "execution_count": 24,
   "metadata": {
    "collapsed": false
   },
   "outputs": [
    {
     "data": {
      "text/plain": [
       "array([[ 1.,  0.,  0.,  3.,  3.,  1.],\n",
       "       [ 0.,  1.,  0.,  2.,  5.,  1.],\n",
       "       [ 0.,  0.,  1.,  0.,  6.,  1.]])"
      ]
     },
     "execution_count": 24,
     "metadata": {},
     "output_type": "execute_result"
    }
   ],
   "source": [
    "tableau1"
   ]
  },
  {
   "cell_type": "code",
   "execution_count": 25,
   "metadata": {
    "collapsed": false
   },
   "outputs": [
    {
     "data": {
      "text/plain": [
       "2"
      ]
     },
     "execution_count": 25,
     "metadata": {},
     "output_type": "execute_result"
    }
   ],
   "source": [
    "ratios = tableau1[:, -1] / tableau1[:, pivot]\n",
    "row_min = ratios.argmin()\n",
    "row_min\n"
   ]
  },
  {
   "cell_type": "code",
   "execution_count": 26,
   "metadata": {
    "collapsed": true
   },
   "outputs": [],
   "source": [
    "tableau1[row_min, :] /= tableau1[row_min, pivot]\n"
   ]
  },
  {
   "cell_type": "code",
   "execution_count": 27,
   "metadata": {
    "collapsed": false
   },
   "outputs": [
    {
     "data": {
      "text/plain": [
       "array([[ 1.     ,  0.     ,  0.     ,  3.     ,  3.     ,  1.     ],\n",
       "       [ 0.     ,  1.     ,  0.     ,  2.     ,  5.     ,  1.     ],\n",
       "       [ 0.     ,  0.     ,  0.16667,  0.     ,  1.     ,  0.16667]])"
      ]
     },
     "execution_count": 27,
     "metadata": {},
     "output_type": "execute_result"
    }
   ],
   "source": [
    "\n",
    "tableau1"
   ]
  },
  {
   "cell_type": "code",
   "execution_count": 28,
   "metadata": {
    "collapsed": true
   },
   "outputs": [],
   "source": [
    "ind = np.ones(tableau1.shape[0], dtype=bool)\n",
    "ind[row_min] = False\n",
    "tableau1[ind, :] -= tableau1[row_min, :] * tableau1[ind, :][:, [pivot]]"
   ]
  },
  {
   "cell_type": "code",
   "execution_count": 29,
   "metadata": {
    "collapsed": false
   },
   "outputs": [
    {
     "data": {
      "text/plain": [
       "array([[ 1.     ,  0.     , -0.5    ,  3.     ,  0.     ,  0.5    ],\n",
       "       [ 0.     ,  1.     , -0.83333,  2.     ,  0.     ,  0.16667],\n",
       "       [ 0.     ,  0.     ,  0.16667,  0.     ,  1.     ,  0.16667]])"
      ]
     },
     "execution_count": 29,
     "metadata": {},
     "output_type": "execute_result"
    }
   ],
   "source": [
    "tableau1"
   ]
  },
  {
   "cell_type": "code",
   "execution_count": 30,
   "metadata": {
    "collapsed": true
   },
   "outputs": [],
   "source": [
    "basic_vars1[row_min], pivot = pivot, basic_vars1[row_min]"
   ]
  },
  {
   "cell_type": "code",
   "execution_count": 31,
   "metadata": {
    "collapsed": false
   },
   "outputs": [
    {
     "data": {
      "text/plain": [
       "2"
      ]
     },
     "execution_count": 31,
     "metadata": {},
     "output_type": "execute_result"
    }
   ],
   "source": [
    "pivot"
   ]
  },
  {
   "cell_type": "code",
   "execution_count": 32,
   "metadata": {
    "collapsed": false
   },
   "outputs": [
    {
     "data": {
      "text/plain": [
       "array([0, 1, 4])"
      ]
     },
     "execution_count": 32,
     "metadata": {},
     "output_type": "execute_result"
    }
   ],
   "source": [
    "basic_vars1"
   ]
  },
  {
   "cell_type": "code",
   "execution_count": 33,
   "metadata": {
    "collapsed": false
   },
   "outputs": [
    {
     "data": {
      "text/plain": [
       "False"
      ]
     },
     "execution_count": 33,
     "metadata": {},
     "output_type": "execute_result"
    }
   ],
   "source": [
    "pivot == init_pivot"
   ]
  },
  {
   "cell_type": "code",
   "execution_count": 34,
   "metadata": {
    "collapsed": false
   },
   "outputs": [
    {
     "data": {
      "text/plain": [
       "array([[ 2.33333,  0.     ,  2.66667,  1.     , -0.33333,  0.66667],\n",
       "       [ 0.33333,  1.     ,  0.16667,  0.     ,  0.16667,  0.16667]])"
      ]
     },
     "execution_count": 34,
     "metadata": {},
     "output_type": "execute_result"
    }
   ],
   "source": [
    "tableau0"
   ]
  },
  {
   "cell_type": "code",
   "execution_count": 35,
   "metadata": {
    "collapsed": false
   },
   "outputs": [
    {
     "data": {
      "text/plain": [
       "0"
      ]
     },
     "execution_count": 35,
     "metadata": {},
     "output_type": "execute_result"
    }
   ],
   "source": [
    "ratios = tableau0[:, -1] / tableau0[:, pivot]\n",
    "row_min = ratios.argmin()\n",
    "row_min"
   ]
  },
  {
   "cell_type": "code",
   "execution_count": 36,
   "metadata": {
    "collapsed": true
   },
   "outputs": [],
   "source": [
    "tableau0[row_min, :] /= tableau0[row_min, pivot]\n",
    "ind = np.ones(tableau0.shape[0], dtype=bool)\n",
    "ind[row_min] = False\n",
    "tableau0[ind, :] -= tableau0[row_min, :] * tableau0[ind, :][:, [pivot]]"
   ]
  },
  {
   "cell_type": "code",
   "execution_count": 37,
   "metadata": {
    "collapsed": false
   },
   "outputs": [
    {
     "data": {
      "text/plain": [
       "array([[ 0.875 ,  0.    ,  1.    ,  0.375 , -0.125 ,  0.25  ],\n",
       "       [ 0.1875,  1.    ,  0.    , -0.0625,  0.1875,  0.125 ]])"
      ]
     },
     "execution_count": 37,
     "metadata": {},
     "output_type": "execute_result"
    }
   ],
   "source": [
    "tableau0"
   ]
  },
  {
   "cell_type": "code",
   "execution_count": 38,
   "metadata": {
    "collapsed": true
   },
   "outputs": [],
   "source": [
    "basic_vars0[row_min], pivot = pivot, basic_vars0[row_min]"
   ]
  },
  {
   "cell_type": "code",
   "execution_count": 39,
   "metadata": {
    "collapsed": false
   },
   "outputs": [
    {
     "data": {
      "text/plain": [
       "3"
      ]
     },
     "execution_count": 39,
     "metadata": {},
     "output_type": "execute_result"
    }
   ],
   "source": [
    "pivot"
   ]
  },
  {
   "cell_type": "code",
   "execution_count": 40,
   "metadata": {
    "collapsed": false
   },
   "outputs": [
    {
     "data": {
      "text/plain": [
       "False"
      ]
     },
     "execution_count": 40,
     "metadata": {},
     "output_type": "execute_result"
    }
   ],
   "source": [
    "pivot == init_pivot"
   ]
  },
  {
   "cell_type": "code",
   "execution_count": 41,
   "metadata": {
    "collapsed": false
   },
   "outputs": [
    {
     "data": {
      "text/plain": [
       "array([[ 1.     ,  0.     , -0.5    ,  3.     ,  0.     ,  0.5    ],\n",
       "       [ 0.     ,  1.     , -0.83333,  2.     ,  0.     ,  0.16667],\n",
       "       [ 0.     ,  0.     ,  0.16667,  0.     ,  1.     ,  0.16667]])"
      ]
     },
     "execution_count": 41,
     "metadata": {},
     "output_type": "execute_result"
    }
   ],
   "source": [
    "tableau1"
   ]
  },
  {
   "cell_type": "code",
   "execution_count": 42,
   "metadata": {
    "collapsed": false
   },
   "outputs": [
    {
     "name": "stderr",
     "output_type": "stream",
     "text": [
      "C:\\Users\\Owner\\Anaconda3\\lib\\site-packages\\ipykernel\\__main__.py:1: RuntimeWarning: divide by zero encountered in true_divide\n",
      "  if __name__ == '__main__':\n"
     ]
    },
    {
     "data": {
      "text/plain": [
       "1"
      ]
     },
     "execution_count": 42,
     "metadata": {},
     "output_type": "execute_result"
    }
   ],
   "source": [
    "ratios = tableau1[:, -1] / tableau1[:, pivot]\n",
    "row_min = ratios.argmin()\n",
    "row_min"
   ]
  },
  {
   "cell_type": "code",
   "execution_count": 43,
   "metadata": {
    "collapsed": false
   },
   "outputs": [
    {
     "data": {
      "text/plain": [
       "array([ 3.,  2.,  0.])"
      ]
     },
     "execution_count": 43,
     "metadata": {},
     "output_type": "execute_result"
    }
   ],
   "source": [
    "tableau1[:, pivot]"
   ]
  },
  {
   "cell_type": "code",
   "execution_count": 44,
   "metadata": {
    "collapsed": true
   },
   "outputs": [],
   "source": [
    "with np.errstate(divide='ignore'):\n",
    "    ratios = tableau1[:, -1] / tableau1[:, pivot]"
   ]
  },
  {
   "cell_type": "code",
   "execution_count": 45,
   "metadata": {
    "collapsed": false
   },
   "outputs": [
    {
     "data": {
      "text/plain": [
       "array([ 0.16667,  0.08333,      inf])"
      ]
     },
     "execution_count": 45,
     "metadata": {},
     "output_type": "execute_result"
    }
   ],
   "source": [
    "ratios"
   ]
  },
  {
   "cell_type": "code",
   "execution_count": 46,
   "metadata": {
    "collapsed": true
   },
   "outputs": [],
   "source": [
    "tableau1[row_min, :] /= tableau1[row_min, pivot]\n",
    "ind = np.ones(tableau1.shape[0], dtype=bool)\n",
    "ind[row_min] = False\n",
    "tableau1[ind, :] -= tableau1[row_min, :] * tableau1[ind, :][:, [pivot]]"
   ]
  },
  {
   "cell_type": "code",
   "execution_count": 47,
   "metadata": {
    "collapsed": false
   },
   "outputs": [
    {
     "data": {
      "text/plain": [
       "array([[ 1.     , -1.5    ,  0.75   ,  0.     ,  0.     ,  0.25   ],\n",
       "       [ 0.     ,  0.5    , -0.41667,  1.     ,  0.     ,  0.08333],\n",
       "       [ 0.     ,  0.     ,  0.16667,  0.     ,  1.     ,  0.16667]])"
      ]
     },
     "execution_count": 47,
     "metadata": {},
     "output_type": "execute_result"
    }
   ],
   "source": [
    "tableau1"
   ]
  },
  {
   "cell_type": "code",
   "execution_count": 48,
   "metadata": {
    "collapsed": true
   },
   "outputs": [],
   "source": [
    "basic_vars1[row_min], pivot = pivot, basic_vars1[row_min]"
   ]
  },
  {
   "cell_type": "code",
   "execution_count": 49,
   "metadata": {
    "collapsed": false
   },
   "outputs": [
    {
     "data": {
      "text/plain": [
       "1"
      ]
     },
     "execution_count": 49,
     "metadata": {},
     "output_type": "execute_result"
    }
   ],
   "source": [
    "pivot"
   ]
  },
  {
   "cell_type": "code",
   "execution_count": 50,
   "metadata": {
    "collapsed": false
   },
   "outputs": [
    {
     "data": {
      "text/plain": [
       "True"
      ]
     },
     "execution_count": 50,
     "metadata": {},
     "output_type": "execute_result"
    }
   ],
   "source": [
    "pivot == init_pivot"
   ]
  },
  {
   "cell_type": "code",
   "execution_count": 51,
   "metadata": {
    "collapsed": false
   },
   "outputs": [
    {
     "data": {
      "text/plain": [
       "array([2, 1])"
      ]
     },
     "execution_count": 51,
     "metadata": {},
     "output_type": "execute_result"
    }
   ],
   "source": [
    "basic_vars0"
   ]
  },
  {
   "cell_type": "code",
   "execution_count": 52,
   "metadata": {
    "collapsed": false
   },
   "outputs": [
    {
     "data": {
      "text/plain": [
       "array([0, 3, 4])"
      ]
     },
     "execution_count": 52,
     "metadata": {},
     "output_type": "execute_result"
    }
   ],
   "source": [
    "basic_vars1"
   ]
  },
  {
   "cell_type": "code",
   "execution_count": 53,
   "metadata": {
    "collapsed": false
   },
   "outputs": [
    {
     "data": {
      "text/plain": [
       "array([2, 1])"
      ]
     },
     "execution_count": 53,
     "metadata": {},
     "output_type": "execute_result"
    }
   ],
   "source": [
    "basic_vars0[basic_vars0 < m]"
   ]
  },
  {
   "cell_type": "code",
   "execution_count": 54,
   "metadata": {
    "collapsed": false
   },
   "outputs": [
    {
     "data": {
      "text/plain": [
       "array([3, 4])"
      ]
     },
     "execution_count": 54,
     "metadata": {},
     "output_type": "execute_result"
    }
   ],
   "source": [
    "basic_vars1[basic_vars1 >= m]"
   ]
  },
  {
   "cell_type": "code",
   "execution_count": 55,
   "metadata": {
    "collapsed": false
   },
   "outputs": [
    {
     "data": {
      "text/plain": [
       "array([ 0.25 ,  0.125])"
      ]
     },
     "execution_count": 55,
     "metadata": {},
     "output_type": "execute_result"
    }
   ],
   "source": [
    "tableau0[basic_vars0 < m, -1]"
   ]
  },
  {
   "cell_type": "code",
   "execution_count": 56,
   "metadata": {
    "collapsed": false
   },
   "outputs": [
    {
     "data": {
      "text/plain": [
       "array([ 0.08333,  0.16667])"
      ]
     },
     "execution_count": 56,
     "metadata": {},
     "output_type": "execute_result"
    }
   ],
   "source": [
    "tableau1[basic_vars1 >= m, -1]"
   ]
  },
  {
   "cell_type": "code",
   "execution_count": 57,
   "metadata": {
    "collapsed": true
   },
   "outputs": [],
   "source": [
    "x = np.zeros(m)\n",
    "x[basic_vars0[basic_vars0 < m]] = tableau0[basic_vars0 < m, -1]\n",
    "x /= x.sum()"
   ]
  },
  {
   "cell_type": "code",
   "execution_count": 58,
   "metadata": {
    "collapsed": false
   },
   "outputs": [
    {
     "data": {
      "text/plain": [
       "array([ 0.     ,  0.33333,  0.66667])"
      ]
     },
     "execution_count": 58,
     "metadata": {},
     "output_type": "execute_result"
    }
   ],
   "source": [
    "x"
   ]
  },
  {
   "cell_type": "code",
   "execution_count": 59,
   "metadata": {
    "collapsed": true
   },
   "outputs": [],
   "source": [
    "y = np.zeros(n)\n",
    "y[basic_vars1[basic_vars1 >= m] - m] = tableau1[basic_vars1 >= m, -1]\n",
    "y /= y.sum()"
   ]
  },
  {
   "cell_type": "code",
   "execution_count": 60,
   "metadata": {
    "collapsed": false
   },
   "outputs": [
    {
     "data": {
      "text/plain": [
       "array([ 0.33333,  0.66667])"
      ]
     },
     "execution_count": 60,
     "metadata": {},
     "output_type": "execute_result"
    }
   ],
   "source": [
    "y"
   ]
  },
  {
   "cell_type": "code",
   "execution_count": 61,
   "metadata": {
    "collapsed": false
   },
   "outputs": [
    {
     "data": {
      "text/plain": [
       "(array([ 0.     ,  0.33333,  0.66667]), array([ 0.33333,  0.66667]))"
      ]
     },
     "execution_count": 61,
     "metadata": {},
     "output_type": "execute_result"
    }
   ],
   "source": [
    "(x, y)"
   ]
  },
  {
   "cell_type": "code",
   "execution_count": 62,
   "metadata": {
    "collapsed": true
   },
   "outputs": [],
   "source": [
    "def min_ratio_test(tableau, pivot):\n",
    "    ind_nonpositive = tableau[:, pivot] <= 0\n",
    "    with np.errstate(divide='ignore', invalid='ignore'):\n",
    "        ratios = tableau[:, -1] / tableau[:, pivot]\n",
    "    ratios[ind_nonpositive] = np.inf\n",
    "    row_min = ratios.argmin()\n",
    "    return row_min"
   ]
  },
  {
   "cell_type": "code",
   "execution_count": 63,
   "metadata": {
    "collapsed": true
   },
   "outputs": [],
   "source": [
    "def pivoting(tableau, pivot, pivot_row):\n",
    "    \"\"\"\n",
    "    Perform a pivoting step.\n",
    "    \n",
    "    Modify `tableau` in place (and return its view).\n",
    "    \n",
    "    \"\"\"\n",
    "    # Row indices except pivot_row\n",
    "    ind = np.ones(tableau.shape[0], dtype=bool)\n",
    "    ind[pivot_row] = False\n",
    "    \n",
    "    # Store the values in the pivot column, except for row_min\n",
    "    # Made 2-dim by np.newaxis\n",
    "    multipliers = tableau[ind, pivot, np.newaxis]\n",
    "    \n",
    "    # Update the tableau\n",
    "    tableau[pivot_row, :] /= tableau[pivot_row, pivot]\n",
    "    tableau[ind, :] -= tableau[pivot_row, :] * multipliers\n",
    "    \n",
    "    return tableau"
   ]
  },
  {
   "cell_type": "code",
   "execution_count": 64,
   "metadata": {
    "collapsed": true
   },
   "outputs": [],
   "source": [
    "def lemke_howson_tbl(tableau0, tableau1, basic_vars0, basic_vars1, init_pivot):\n",
    "    m, n = tableau1.shape[0], tableau0.shape[0]\n",
    "    tableaux = (tableau0, tableau1)\n",
    "    basic_vars = (basic_vars0, basic_vars1)\n",
    "    init_player = int((basic_vars[0]==init_pivot).any())\n",
    "    players = [init_player, 1 - init_player]\n",
    "\n",
    "    pivot = init_pivot\n",
    "\n",
    "    while True:\n",
    "        for i in players:\n",
    "            # Determine the leaving variable\n",
    "            row_min = min_ratio_test(tableaux[i], pivot)\n",
    "            \n",
    "            # Pivoting step: modify tableau in place\n",
    "            pivoting(tableaux[i], pivot, row_min)\n",
    "            \n",
    "            # Update the basic variables and the pivot\n",
    "            basic_vars[i][row_min], pivot = pivot, basic_vars[i][row_min]\n",
    "            \n",
    "            if pivot == init_pivot:\n",
    "                break\n",
    "        else:\n",
    "            continue\n",
    "        break\n",
    "\n",
    "    out_dtype = np.result_type(*tableaux)\n",
    "    out = np.zeros(m+n, dtype=out_dtype)\n",
    "    for i, (start, num) in enumerate(zip((0, m), (m, n))):\n",
    "        ind = basic_vars[i] < start + num if i == 0 else start <= basic_vars[i]\n",
    "        out[basic_vars[i][ind]] = tableaux[i][ind, -1]\n",
    "        \n",
    "    return out"
   ]
  },
  {
   "cell_type": "code",
   "execution_count": 65,
   "metadata": {
    "collapsed": true
   },
   "outputs": [],
   "source": [
    "def normalize(unnormalized, m, n):\n",
    "    normalized = np.empty(m+n)\n",
    "    for (start, num) in zip((0, m), (m, n)):\n",
    "        s = unnormalized[start:start+num].sum()\n",
    "        if s != 0:\n",
    "            normalized[start:start+num] = unnormalized[start:start+num] / s\n",
    "        else:\n",
    "            normalized[start:start+num] = 0\n",
    "    return normalized[:m], normalized[m:]"
   ]
  },
  {
   "cell_type": "code",
   "execution_count": 66,
   "metadata": {
    "collapsed": true
   },
   "outputs": [],
   "source": [
    "def lemke_howson(A, B_T, init_pivot=0, return_tableaux=False):\n",
    "    m, n = A.shape\n",
    "    tableaux = (np.hstack((B_T, np.identity(n), np.ones((n, 1)))),\n",
    "                np.hstack((np.identity(m), A, np.ones((m, 1)))))\n",
    "    basic_vars = (np.arange(m, m+n), np.arange(0, m))\n",
    "    unnormalized = lemke_howson_tbl(*tableaux, *basic_vars, init_pivot)\n",
    "    normalized = normalize(unnormalized, m, n)\n",
    "    if return_tableaux:\n",
    "        return normalized, tableaux, basic_vars\n",
    "    return normalized"
   ]
  },
  {
   "cell_type": "code",
   "execution_count": 67,
   "metadata": {
    "collapsed": false
   },
   "outputs": [
    {
     "name": "stdout",
     "output_type": "stream",
     "text": [
      "Nash equilibrium found\n",
      " (array([ 0.     ,  0.33333,  0.66667]), array([ 0.33333,  0.66667]))\n"
     ]
    }
   ],
   "source": [
    "init_pivot = 1\n",
    "x, y = lemke_howson(A, B_T, init_pivot)\n",
    "print(\"Nash equilibrium found\\n\", (x, y))"
   ]
  },
  {
   "cell_type": "code",
   "execution_count": 68,
   "metadata": {
    "collapsed": false
   },
   "outputs": [
    {
     "data": {
      "text/plain": [
       "((array([ 0.     ,  0.33333,  0.66667]), array([ 0.33333,  0.66667])),\n",
       " (array([[ 0.875 ,  0.    ,  1.    ,  0.375 , -0.125 ,  0.25  ],\n",
       "         [ 0.1875,  1.    ,  0.    , -0.0625,  0.1875,  0.125 ]]),\n",
       "  array([[ 1.     , -1.5    ,  0.75   ,  0.     ,  0.     ,  0.25   ],\n",
       "         [ 0.     ,  0.5    , -0.41667,  1.     ,  0.     ,  0.08333],\n",
       "         [ 0.     ,  0.     ,  0.16667,  0.     ,  1.     ,  0.16667]])),\n",
       " (array([2, 1]), array([0, 3, 4])))"
      ]
     },
     "execution_count": 68,
     "metadata": {},
     "output_type": "execute_result"
    }
   ],
   "source": [
    "lemke_howson(A, B_T, init_pivot, return_tableaux=True)"
   ]
  },
  {
   "cell_type": "code",
   "execution_count": 69,
   "metadata": {
    "collapsed": true
   },
   "outputs": [],
   "source": [
    "def lemke_howson_all(A, B_T):\n",
    "    m, n = A.shape\n",
    "    k = 0\n",
    "    NEs = []\n",
    "    basic_vars_list = []\n",
    "    player = (m <= n)\n",
    "    init_pivot = k\n",
    "    actions, tableaux, basic_vars = \\\n",
    "        lemke_howson(A, B_T, init_pivot, return_tableaux=True)\n",
    "    NEs.append(actions)\n",
    "    basic_vars_list.append(np.sort(basic_vars[player]))\n",
    "\n",
    "    for a in range(m+n):\n",
    "        if a == k:\n",
    "            continue\n",
    "        init_pivot = a\n",
    "        actions, tableaux, basic_vars = \\\n",
    "            lemke_howson(A, B_T, init_pivot, return_tableaux=True)\n",
    "        basic_vars_sorted = np.sort(basic_vars[player])\n",
    "        for arr in basic_vars_list:\n",
    "            if np.array_equal(basic_vars_sorted, arr):\n",
    "                break\n",
    "        else:\n",
    "            NEs.append(actions)\n",
    "            basic_vars_list.append(basic_vars_sorted)\n",
    "\n",
    "            unnormalized = \\\n",
    "                lemke_howson_tbl(*tableaux, *basic_vars, init_pivot=k)\n",
    "            NEs.append(normalize(unnormalized, m, n))\n",
    "            basic_vars_list.append(np.sort(basic_vars[player]))\n",
    "            \n",
    "    return NEs"
   ]
  },
  {
   "cell_type": "code",
   "execution_count": 70,
   "metadata": {
    "collapsed": false
   },
   "outputs": [
    {
     "data": {
      "text/plain": [
       "[(array([ 1.,  0.,  0.]), array([ 1.,  0.])),\n",
       " (array([ 0.     ,  0.33333,  0.66667]), array([ 0.33333,  0.66667])),\n",
       " (array([ 0.8,  0.2,  0. ]), array([ 0.66667,  0.33333]))]"
      ]
     },
     "execution_count": 70,
     "metadata": {},
     "output_type": "execute_result"
    }
   ],
   "source": [
    "lemke_howson_all(A, B_T)"
   ]
  },
  {
   "cell_type": "code",
   "execution_count": 71,
   "metadata": {
    "collapsed": false
   },
   "outputs": [
    {
     "data": {
      "text/plain": [
       "[(array([ 0.,  0.,  1.]), array([ 0.,  0.,  1.]))]"
      ]
     },
     "execution_count": 71,
     "metadata": {},
     "output_type": "execute_result"
    }
   ],
   "source": [
    "payoff_matrix_3_7 = np.array([[3, 3, 0], [4, 0, 1], [0, 4, 5]])\n",
    "lemke_howson_all(payoff_matrix_3_7, payoff_matrix_3_7)"
   ]
  },
  {
   "cell_type": "code",
   "execution_count": 72,
   "metadata": {
    "collapsed": true
   },
   "outputs": [],
   "source": [
    "def pivoting_int(tableau, pivot, pivot_row, prev_pivot_el):\n",
    "    \"\"\"\n",
    "    Perform a pivoting step with integer input data.\n",
    "    \n",
    "    Modify `tableau` in place (and return its view).\n",
    "    \n",
    "    \"\"\"\n",
    "    # Row indices except pivot_row\n",
    "    ind = np.ones(tableau.shape[0], dtype=bool)\n",
    "    ind[pivot_row] = False\n",
    "    \n",
    "    # Store the values in the pivot column, except for row_min\n",
    "    # Made 2-dim by np.newaxis\n",
    "    multipliers = tableau[ind, pivot, np.newaxis]\n",
    "    \n",
    "    # Update the tableau\n",
    "    tableau[ind, :] *= tableau[pivot_row, pivot]\n",
    "    tableau[ind, :] -= tableau[pivot_row, :] * multipliers\n",
    "    tableau[ind, :] //= prev_pivot_el  # Floor division: return int\n",
    "    \n",
    "    return tableau"
   ]
  },
  {
   "cell_type": "code",
   "execution_count": 73,
   "metadata": {
    "collapsed": true
   },
   "outputs": [],
   "source": [
    "def lemke_howson_tbl_int(tableau0, tableau1, basic_vars0, basic_vars1, init_pivot):\n",
    "    m, n = tableau1.shape[0], tableau0.shape[0]\n",
    "    tableaux = (tableau0, tableau1)\n",
    "    basic_vars = (basic_vars0, basic_vars1)\n",
    "    init_player = int((basic_vars[0]==init_pivot).any())\n",
    "    players = [init_player, 1 - init_player]\n",
    "\n",
    "    pivot = init_pivot\n",
    "    prev_pivot_els = np.ones(2, dtype=np.int_)\n",
    "\n",
    "    while True:\n",
    "        for i in players:\n",
    "            # Determine the leaving variable\n",
    "            row_min = min_ratio_test(tableaux[i], pivot)\n",
    "            \n",
    "            # Pivoting step: modify tableau in place\n",
    "            pivoting_int(tableaux[i], pivot, row_min, prev_pivot_els[i])\n",
    "            \n",
    "            # Backup the pivot element\n",
    "            prev_pivot_els[i] = tableaux[i][row_min, pivot]\n",
    "            \n",
    "            # Update the basic variables and the pivot\n",
    "            basic_vars[i][row_min], pivot = pivot, basic_vars[i][row_min]\n",
    "            \n",
    "            if pivot == init_pivot:\n",
    "                break\n",
    "        else:\n",
    "            continue\n",
    "        break\n",
    "\n",
    "    out = np.zeros(m+n, dtype=np.int_)\n",
    "    for i, (start, num) in enumerate(zip((0, m), (m, n))):\n",
    "        ind = basic_vars[i] < start + num if i == 0 else start <= basic_vars[i]\n",
    "        out[basic_vars[i][ind]] = tableaux[i][ind, -1]\n",
    "        \n",
    "    return out"
   ]
  },
  {
   "cell_type": "code",
   "execution_count": 74,
   "metadata": {
    "collapsed": true
   },
   "outputs": [],
   "source": [
    "import sympy"
   ]
  },
  {
   "cell_type": "code",
   "execution_count": 75,
   "metadata": {
    "collapsed": true
   },
   "outputs": [],
   "source": [
    "def normalize_rational(unnormalized, m, n):\n",
    "    \"\"\"\n",
    "    Normalize the integer array `unnormalized` with ratioal numbers.\n",
    "    \n",
    "    \"\"\"\n",
    "    normalized = np.empty(m+n, np.object_)\n",
    "    for (start, num) in zip((0, m), (m, n)):\n",
    "        s = unnormalized[start:start+num].sum()\n",
    "        if s != 0:\n",
    "            for k in range(start, start+num):\n",
    "                normalized[k] = sympy.Rational(sympy.S(unnormalized[k]), sympy.S(s))\n",
    "        else:\n",
    "            normalized[start:start+num] = sympy.Rational(0)\n",
    "    return normalized[:m], normalized[m:]"
   ]
  },
  {
   "cell_type": "code",
   "execution_count": 76,
   "metadata": {
    "collapsed": true
   },
   "outputs": [],
   "source": [
    "def lemke_howson_int(A, B_T, init_pivot=0, rational=False, return_tableaux=False):\n",
    "    m, n = A.shape\n",
    "    tableaux = (np.hstack((B_T, np.identity(n, dtype=np.int_), np.ones((n, 1), dtype=np.int_))),\n",
    "                np.hstack((np.identity(m, dtype=np.int_), A, np.ones((m, 1), dtype=np.int_))))\n",
    "    basic_vars = (np.arange(m, m+n), np.arange(0, m))\n",
    "    unnormalized = lemke_howson_tbl_int(*tableaux, *basic_vars, init_pivot)\n",
    "    if rational:\n",
    "        normalized = normalize_rational(unnormalized, m, n)\n",
    "    else:\n",
    "        normalized = normalize(unnormalized, m, n)\n",
    "    if return_tableaux:\n",
    "        return normalized, tableaux, basic_vars\n",
    "    return normalized"
   ]
  },
  {
   "cell_type": "code",
   "execution_count": 77,
   "metadata": {
    "collapsed": true
   },
   "outputs": [],
   "source": [
    "def lemke_howson_all_int(A, B_T, rational=False):\n",
    "    m, n = A.shape\n",
    "    k = 0\n",
    "    NEs = []\n",
    "    basic_vars_list = []\n",
    "    player = (m <= n)\n",
    "    init_pivot = k\n",
    "    actions, tableaux, basic_vars = \\\n",
    "        lemke_howson_int(A, B_T, init_pivot, rational=rational, return_tableaux=True)\n",
    "    NEs.append(actions)\n",
    "    basic_vars_list.append(np.sort(basic_vars[player]))\n",
    "\n",
    "    for a in range(m+n):\n",
    "        if a == k:\n",
    "            continue\n",
    "        init_pivot = a\n",
    "        actions, tableaux, basic_vars = \\\n",
    "            lemke_howson_int(A, B_T, init_pivot, rational=rational, return_tableaux=True)\n",
    "        basic_vars_sorted = np.sort(basic_vars[player])\n",
    "        for arr in basic_vars_list:\n",
    "            if np.array_equal(basic_vars_sorted, arr):\n",
    "                break\n",
    "        else:\n",
    "            NEs.append(actions)\n",
    "            basic_vars_list.append(basic_vars_sorted)\n",
    "\n",
    "            unnormalized = \\\n",
    "                lemke_howson_tbl_int(*tableaux, *basic_vars, init_pivot=k)\n",
    "            if rational:\n",
    "                normalized = normalize_rational(unnormalized, m, n)\n",
    "            else:\n",
    "                normalized = normalize(unnormalized, m, n)\n",
    "            NEs.append(normalized)\n",
    "            basic_vars_list.append(np.sort(basic_vars[player]))\n",
    "            \n",
    "    return NEs"
   ]
  },
  {
   "cell_type": "code",
   "execution_count": 78,
   "metadata": {
    "collapsed": false
   },
   "outputs": [
    {
     "data": {
      "text/plain": [
       "(array([ 0.     ,  0.33333,  0.66667]), array([ 0.33333,  0.66667]))"
      ]
     },
     "execution_count": 78,
     "metadata": {},
     "output_type": "execute_result"
    }
   ],
   "source": [
    "lemke_howson_int(A, B_T, init_pivot=1)"
   ]
  },
  {
   "cell_type": "code",
   "execution_count": 79,
   "metadata": {
    "collapsed": false
   },
   "outputs": [
    {
     "data": {
      "text/plain": [
       "((array([ 0.     ,  0.33333,  0.66667]), array([ 0.33333,  0.66667])),\n",
       " (array([[14,  0, 16,  6, -2,  4],\n",
       "         [ 3, 16,  0, -1,  3,  2]]), array([[ 12, -18,   9,   0,   0,   3],\n",
       "         [  0,   6,  -5,  12,   0,   1],\n",
       "         [  0,   0,   2,   0,  12,   2]])),\n",
       " (array([2, 1]), array([0, 3, 4])))"
      ]
     },
     "execution_count": 79,
     "metadata": {},
     "output_type": "execute_result"
    }
   ],
   "source": [
    "lemke_howson_int(A, B_T, init_pivot=1, return_tableaux=True)"
   ]
  },
  {
   "cell_type": "code",
   "execution_count": 80,
   "metadata": {
    "collapsed": false
   },
   "outputs": [
    {
     "data": {
      "text/plain": [
       "(array([0, 1/3, 2/3], dtype=object), array([1/3, 2/3], dtype=object))"
      ]
     },
     "execution_count": 80,
     "metadata": {},
     "output_type": "execute_result"
    }
   ],
   "source": [
    "lemke_howson_int(A, B_T, init_pivot=1, rational=True)"
   ]
  },
  {
   "cell_type": "code",
   "execution_count": 81,
   "metadata": {
    "collapsed": false
   },
   "outputs": [
    {
     "data": {
      "text/plain": [
       "(array([1, 0, 0], dtype=object), array([1, 0], dtype=object))"
      ]
     },
     "execution_count": 81,
     "metadata": {},
     "output_type": "execute_result"
    }
   ],
   "source": [
    "lemke_howson_int(A, B_T, init_pivot=0, rational=True)"
   ]
  },
  {
   "cell_type": "code",
   "execution_count": 82,
   "metadata": {
    "collapsed": false
   },
   "outputs": [
    {
     "data": {
      "text/plain": [
       "[(array([ 1.,  0.,  0.]), array([ 1.,  0.])),\n",
       " (array([ 0.     ,  0.33333,  0.66667]), array([ 0.33333,  0.66667])),\n",
       " (array([ 0.2,  0.8,  0. ]), array([ 0.66667,  0.33333]))]"
      ]
     },
     "execution_count": 82,
     "metadata": {},
     "output_type": "execute_result"
    }
   ],
   "source": [
    "lemke_howson_all_int(A, B_T)"
   ]
  },
  {
   "cell_type": "code",
   "execution_count": 83,
   "metadata": {
    "collapsed": false
   },
   "outputs": [
    {
     "data": {
      "text/plain": [
       "[(array([1, 0, 0], dtype=object), array([1, 0], dtype=object)),\n",
       " (array([0, 1/3, 2/3], dtype=object), array([1/3, 2/3], dtype=object)),\n",
       " (array([1/5, 4/5, 0], dtype=object), array([2/3, 1/3], dtype=object))]"
      ]
     },
     "execution_count": 83,
     "metadata": {},
     "output_type": "execute_result"
    }
   ],
   "source": [
    "lemke_howson_all_int(A, B_T, rational=True)"
   ]
  },
  {
   "cell_type": "code",
   "execution_count": 84,
   "metadata": {
    "collapsed": true
   },
   "outputs": [],
   "source": [
    "def min_ratio_test_no_tie_breaking(tableau, pivot, test_col, argmins, num_argmins):\n",
    "    idx = 0\n",
    "    i = argmins[idx]\n",
    "    if tableau[i, pivot] > 0:\n",
    "        min_ratio = tableau[i, test_col] / tableau[i, pivot]\n",
    "    else:\n",
    "        min_ratio = np.inf\n",
    "    for k in range(1, num_argmins):\n",
    "        i = argmins[k]\n",
    "        if tableau[i, pivot] <= 0:\n",
    "            continue\n",
    "        ratio = tableau[i, test_col] / tableau[i, pivot]\n",
    "        if ratio > min_ratio:\n",
    "            continue\n",
    "        elif ratio < min_ratio:\n",
    "            min_ratio = ratio\n",
    "            idx = 0\n",
    "        elif ratio == min_ratio:\n",
    "            idx += 1\n",
    "        argmins[idx] = k\n",
    "    return idx + 1"
   ]
  },
  {
   "cell_type": "code",
   "execution_count": 85,
   "metadata": {
    "collapsed": true
   },
   "outputs": [],
   "source": [
    "def lex_min_ratio_test(tableau, pivot, slack_start):\n",
    "    num_rows = tableau.shape[0]\n",
    "    argmins = np.arange(num_rows)\n",
    "    num_argmins = num_rows\n",
    "    \n",
    "    num_argmins = min_ratio_test_no_tie_breaking(tableau, pivot, -1, argmins, num_argmins)\n",
    "    if num_argmins == 1:\n",
    "        return argmins[0]\n",
    "    \n",
    "    for j in range(slack_start, slack_start+num_rows):\n",
    "        if j == pivot:\n",
    "            continue\n",
    "        num_argmins = min_ratio_test_no_tie_breaking(tableau, pivot, j, argmins, num_argmins)\n",
    "        if num_argmins == 1:\n",
    "            break\n",
    "    return argmins[0]"
   ]
  },
  {
   "cell_type": "code",
   "execution_count": 86,
   "metadata": {
    "collapsed": false
   },
   "outputs": [
    {
     "data": {
      "text/plain": [
       "0.6666666666666666"
      ]
     },
     "execution_count": 86,
     "metadata": {},
     "output_type": "execute_result"
    }
   ],
   "source": [
    "2/3"
   ]
  },
  {
   "cell_type": "code",
   "execution_count": 87,
   "metadata": {
    "collapsed": false
   },
   "outputs": [
    {
     "data": {
      "text/plain": [
       "0.6666666666666667"
      ]
     },
     "execution_count": 87,
     "metadata": {},
     "output_type": "execute_result"
    }
   ],
   "source": [
    "1 - 1/3"
   ]
  },
  {
   "cell_type": "code",
   "execution_count": 88,
   "metadata": {
    "collapsed": false
   },
   "outputs": [
    {
     "data": {
      "text/plain": [
       "False"
      ]
     },
     "execution_count": 88,
     "metadata": {},
     "output_type": "execute_result"
    }
   ],
   "source": [
    "1 - 1/3 == 2/3"
   ]
  },
  {
   "cell_type": "code",
   "execution_count": 89,
   "metadata": {
    "collapsed": true
   },
   "outputs": [],
   "source": [
    "def lemke_howson_tbl_int_lex_min(tableau0, tableau1, basic_vars0, basic_vars1, init_pivot):\n",
    "    m, n = tableau1.shape[0], tableau0.shape[0]\n",
    "    tableaux = (tableau0, tableau1)\n",
    "    basic_vars = (basic_vars0, basic_vars1)\n",
    "    init_player = int((basic_vars[0]==init_pivot).any())\n",
    "    players = [init_player, 1 - init_player]\n",
    "\n",
    "    pivot = init_pivot\n",
    "    prev_pivot_els = np.ones(2, dtype=np.int_)\n",
    "    slack_starts = (m, 0)\n",
    "\n",
    "    while True:\n",
    "        for i in players:\n",
    "            # Determine the leaving variable\n",
    "            row_min = lex_min_ratio_test(tableaux[i], pivot, slack_starts[i])\n",
    "            \n",
    "            # Pivoting step: modify tableau in place\n",
    "            pivoting_int(tableaux[i], pivot, row_min, prev_pivot_els[i])\n",
    "            \n",
    "            # Backup the pivot element\n",
    "            prev_pivot_els[i] = tableaux[i][row_min, pivot]\n",
    "            \n",
    "            # Update the basic variables and the pivot\n",
    "            basic_vars[i][row_min], pivot = pivot, basic_vars[i][row_min]\n",
    "            \n",
    "            if pivot == init_pivot:\n",
    "                break\n",
    "        else:\n",
    "            continue\n",
    "        break\n",
    "\n",
    "    out = np.zeros(m+n, dtype=np.int_)\n",
    "    for i, (start, num) in enumerate(zip((0, m), (m, n))):\n",
    "        ind = basic_vars[i] < start + num if i == 0 else start <= basic_vars[i]\n",
    "        out[basic_vars[i][ind]] = tableaux[i][ind, -1]\n",
    "        \n",
    "    return out"
   ]
  },
  {
   "cell_type": "code",
   "execution_count": 90,
   "metadata": {
    "collapsed": true
   },
   "outputs": [],
   "source": [
    "def lemke_howson_int_lex_min(A, B_T, init_pivot=0, rational=False, return_tableaux=False):\n",
    "    m, n = A.shape\n",
    "    tableaux = (np.hstack((B_T, np.identity(n, dtype=np.int_), np.ones((n, 1), dtype=np.int_))),\n",
    "                np.hstack((np.identity(m, dtype=np.int_), A, np.ones((m, 1), dtype=np.int_))))\n",
    "    basic_vars = (np.arange(m, m+n), np.arange(0, m))\n",
    "    unnormalized = lemke_howson_tbl_int_lex_min(*tableaux, *basic_vars, init_pivot)\n",
    "    if rational:\n",
    "        normalized = normalize_rational(unnormalized, m, n)\n",
    "    else:\n",
    "        normalized = normalize(unnormalized, m, n)\n",
    "    if return_tableaux:\n",
    "        return normalized, tableaux, basic_vars\n",
    "    return normalized"
   ]
  },
  {
   "cell_type": "code",
   "execution_count": 91,
   "metadata": {
    "collapsed": true
   },
   "outputs": [],
   "source": [
    "def lemke_howson_all_int_lex_min(A, B_T, rational=False):\n",
    "    m, n = A.shape\n",
    "    k = 0\n",
    "    NEs = []\n",
    "    basic_vars_list = []\n",
    "    player = (m <= n)\n",
    "    init_pivot = k\n",
    "    actions, tableaux, basic_vars = \\\n",
    "        lemke_howson_int_lex_min(A, B_T, init_pivot, rational=rational, return_tableaux=True)\n",
    "    NEs.append(actions)\n",
    "    basic_vars_list.append(np.sort(basic_vars[player]))\n",
    "\n",
    "    for a in range(m+n):\n",
    "        if a == k:\n",
    "            continue\n",
    "        init_pivot = a\n",
    "        actions, tableaux, basic_vars = \\\n",
    "            lemke_howson_int_lex_min(A, B_T, init_pivot, rational=rational, return_tableaux=True)\n",
    "        basic_vars_sorted = np.sort(basic_vars[player])\n",
    "        for arr in basic_vars_list:\n",
    "            if np.array_equal(basic_vars_sorted, arr):\n",
    "                break\n",
    "        else:\n",
    "            NEs.append(actions)\n",
    "            basic_vars_list.append(basic_vars_sorted)\n",
    "\n",
    "            unnormalized = \\\n",
    "                lemke_howson_tbl_int_lex_min(*tableaux, *basic_vars, init_pivot=k)\n",
    "            if rational:\n",
    "                normalized = normalize_rational(unnormalized, m, n)\n",
    "            else:\n",
    "                normalized = normalize(unnormalized, m, n)\n",
    "            NEs.append(normalized)\n",
    "            basic_vars_list.append(np.sort(basic_vars[player]))\n",
    "            \n",
    "    return NEs"
   ]
  },
  {
   "cell_type": "code",
   "execution_count": 92,
   "metadata": {
    "collapsed": true
   },
   "outputs": [],
   "source": [
    "C = np.array([[3, 3],\n",
    "              [2, 5],\n",
    "              [0 ,6]])\n",
    "D_T = np.array([[3, 2, 3],\n",
    "                [3, 6, 1]])"
   ]
  },
  {
   "cell_type": "code",
   "execution_count": 93,
   "metadata": {
    "collapsed": false
   },
   "outputs": [
    {
     "data": {
      "text/plain": [
       "[(array([ 1.,  0.,  0.]), array([ 1.,  0.])),\n",
       " (array([ 0.     ,  0.33333,  0.66667]), array([ 0.33333,  0.66667])),\n",
       " (array([ 0.,  0.,  0.]), array([ 0.,  0.]))]"
      ]
     },
     "execution_count": 93,
     "metadata": {},
     "output_type": "execute_result"
    }
   ],
   "source": [
    "lemke_howson_all(C, D_T)"
   ]
  },
  {
   "cell_type": "code",
   "execution_count": 94,
   "metadata": {
    "collapsed": false
   },
   "outputs": [
    {
     "data": {
      "text/plain": [
       "[(array([ 0.     ,  0.33333,  0.66667]), array([ 0.33333,  0.66667]))]"
      ]
     },
     "execution_count": 94,
     "metadata": {},
     "output_type": "execute_result"
    }
   ],
   "source": [
    "lemke_howson_all_int_lex_min(C, D_T)"
   ]
  },
  {
   "cell_type": "code",
   "execution_count": 95,
   "metadata": {
    "collapsed": true
   },
   "outputs": [],
   "source": [
    "E = np.array([[3, 3],\n",
    "              [5, 2],\n",
    "              [6 ,0]])\n",
    "F_T = np.array([[3, 6, 1],\n",
    "                [3, 2, 3]])"
   ]
  },
  {
   "cell_type": "code",
   "execution_count": 96,
   "metadata": {
    "collapsed": false
   },
   "outputs": [
    {
     "data": {
      "text/plain": [
       "[(array([ 1.,  0.,  0.]), array([ 0.,  1.])),\n",
       " (array([ 0.     ,  0.33333,  0.66667]), array([ 0.66667,  0.33333])),\n",
       " (array([ 1.,  0.,  0.]), array([ 0.33333,  0.66667]))]"
      ]
     },
     "execution_count": 96,
     "metadata": {},
     "output_type": "execute_result"
    }
   ],
   "source": [
    "lemke_howson_all_int_lex_min(E, F_T)"
   ]
  },
  {
   "cell_type": "code",
   "execution_count": 97,
   "metadata": {
    "collapsed": true
   },
   "outputs": [],
   "source": [
    "eps = 0.01\n",
    "D_T_eps = np.array([[3 / (1 + eps), 2 / (1 + eps), 3 / (1 + eps)],\n",
    "                    [3 / (1 + eps**2), 6 / (1 + eps**2), 1 / (1 + eps**2)]])\n",
    "F_T_eps = np.array([[3 / (1 + eps**2), 2 / (1 + eps**2), 3 / (1 + eps**2)],\n",
    "                    [3 / (1 + eps), 6 / (1 + eps), 1 / (1 + eps)]])"
   ]
  },
  {
   "cell_type": "code",
   "execution_count": 98,
   "metadata": {
    "collapsed": false
   },
   "outputs": [
    {
     "data": {
      "text/plain": [
       "[(array([ 0.     ,  0.32897,  0.67103]), array([ 0.33333,  0.66667]))]"
      ]
     },
     "execution_count": 98,
     "metadata": {},
     "output_type": "execute_result"
    }
   ],
   "source": [
    "lemke_howson_all(C, D_T_eps)"
   ]
  },
  {
   "cell_type": "code",
   "execution_count": 99,
   "metadata": {
    "collapsed": false
   },
   "outputs": [
    {
     "data": {
      "text/plain": [
       "[(array([ 1.,  0.,  0.]), array([ 1.,  0.])),\n",
       " (array([ 0.     ,  0.33773,  0.66227]), array([ 0.33333,  0.66667])),\n",
       " (array([ 0.99259,  0.00741,  0.     ]), array([ 0.66667,  0.33333]))]"
      ]
     },
     "execution_count": 99,
     "metadata": {},
     "output_type": "execute_result"
    }
   ],
   "source": [
    "lemke_howson_all(C, F_T_eps)"
   ]
  },
  {
   "cell_type": "code",
   "execution_count": null,
   "metadata": {
    "collapsed": true
   },
   "outputs": [],
   "source": []
  }
 ],
 "metadata": {
  "kernelspec": {
   "display_name": "Python [conda root]",
   "language": "python",
   "name": "conda-root-py"
  },
  "language_info": {
   "codemirror_mode": {
    "name": "ipython",
    "version": 3
   },
   "file_extension": ".py",
   "mimetype": "text/x-python",
   "name": "python",
   "nbconvert_exporter": "python",
   "pygments_lexer": "ipython3",
   "version": "3.5.2"
  }
 },
 "nbformat": 4,
 "nbformat_minor": 1
}
